{
  "cells": [
    {
      "cell_type": "code",
      "execution_count": null,
      "metadata": {
        "id": "jWxMQyNWGUiW"
      },
      "outputs": [],
      "source": [
        "\"\"\"\n",
        "Vamos a crear un programa que tenga el siguiente menú:\n",
        "\n",
        "1. Añadir número a la lista: Me pide un número de la lista y lo añade al final de la lista.\n",
        "2. Añadir número de la lista en una posición: Me pide un número y una posición, y si la posición existe en la lista lo añade a ella (la posición se pide a partir de 1).\n",
        "3. Agregar un conjunto de datos a lista.\n",
        "4. Eliminar el último número: Muestra el último número de la lista y lo borra.\n",
        "5. Eliminar un número: Pide una posición, y si la posición existe en la lista lo borra de ella (la posición se pide a partir de 1).\n",
        "6. Contar números: Te pide un número y te dice cuantas apariciones hay en la lista.\n",
        "7. Posiciones de un número: recibe un número y te dice en que posiciones está (contando desde 1).\n",
        "8. Mostrar lista: Muestra los números de la lista\n",
        "9. buscar el mayor de la lista \n",
        "10. buscar el menor de la lista\n",
        "11. ordenar por burbuja\n",
        "S. Salir\n",
        "\n",
        "\"\"\"\n",
        "\n"
      ]
    }
  ],
  "metadata": {
    "colab": {
      "provenance": []
    },
    "kernelspec": {
      "display_name": "Python 3",
      "name": "python3"
    },
    "language_info": {
      "name": "python"
    }
  },
  "nbformat": 4,
  "nbformat_minor": 0
}
